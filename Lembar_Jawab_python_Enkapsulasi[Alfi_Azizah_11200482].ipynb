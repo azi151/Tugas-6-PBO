{
  "nbformat": 4,
  "nbformat_minor": 0,
  "metadata": {
    "colab": {
      "name": "Lembar_Jawab_python_Enkapsulasi[Alfi_Azizah_11200482].ipynb",
      "provenance": []
    },
    "kernelspec": {
      "name": "python3",
      "display_name": "Python 3"
    },
    "language_info": {
      "name": "python"
    }
  },
  "cells": [
    {
      "cell_type": "markdown",
      "source": [
        "## NIM  :11200482\n",
        "## NAMA : Alfi Azizah\n",
        "## JURUSAN : Sistem Informasi"
      ],
      "metadata": {
        "id": "DVDFtIGg35km"
      }
    },
    {
      "cell_type": "markdown",
      "source": [
        "## JAWABAN TUGAS :"
      ],
      "metadata": {
        "id": "Ea7axlzI4A-P"
      }
    },
    {
      "cell_type": "code",
      "source": [
        "#jawab\n",
        "class Balok:\n",
        "\n",
        "  def __init__(self, panjang, lebar, tinggi):\n",
        "    self.panjang = panjang\n",
        "    self.lebar = lebar\n",
        "    self.tinggi = tinggi\n",
        "    self.volume = panjang* lebar * tinggi\n",
        "\n",
        "balok_besar = Balok(5, 6, 7)\n",
        "\n",
        "# akses variabel panjang, lebar, tinggi, dan volume dari luar kelas\n",
        "print(f'panjang: {balok_besar.panjang}')\n",
        "print(f'lebar: {balok_besar.lebar}')\n",
        "print(f'tinggi: {balok_besar.tinggi}')\n",
        "print(f'volume: {balok_besar.volume}')"
      ],
      "metadata": {
        "colab": {
          "base_uri": "https://localhost:8080/"
        },
        "id": "rSeh7Fxo2Rv2",
        "outputId": "443f2c5a-82a8-4ec4-a615-c60039cceb68"
      },
      "execution_count": 17,
      "outputs": [
        {
          "output_type": "stream",
          "name": "stdout",
          "text": [
            "panjang: 5\n",
            "lebar: 6\n",
            "tinggi: 7\n",
            "volume: 210\n"
          ]
        }
      ]
    }
  ]
}